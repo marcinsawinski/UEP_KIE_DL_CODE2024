{
 "cells": [
  {
   "attachments": {},
   "cell_type": "markdown",
   "metadata": {},
   "source": [
    "# Deep Learning\n",
    "<table align=\"left\">\n",
    "  <td>\n",
    "    <a href=\"https://colab.research.google.com/github/marcinsawinski/UEP_KIE_DL_CODE2024/blob/main/dl01_perceptron.ipynb\" target=\"_parent\"><img src=\"https://colab.research.google.com/assets/colab-badge.svg\" alt=\"Open In Colab\"/></a>\n",
    "  </td>\n",
    "</table>"
   ]
  },
  {
   "attachments": {},
   "cell_type": "markdown",
   "metadata": {},
   "source": [
    "# Excercise 1: Perceptron\n",
    "- define _step function_ that takes value (z) and returns \n",
    "Heaviside step function\\\n",
    "$\n",
    "Heaviside(z) =\n",
    "\\begin{cases}\n",
    "0\\ \\text{if}\\ z<0\\\\\n",
    "1\\ \\text{if}\\ z \\ge 0\n",
    "\\end{cases}\n",
    "$\n",
    "- define _Perceptron_ function that takes:\n",
    "    - data: numpy array of shape (m,n)\n",
    "    - labels: numpy array of shape (m,1)\n",
    "    - lr: learning rate ($\\eta$)\n",
    "    - e: number of epochs\n",
    "- add bias term (column with values equal to 1)\n",
    "- initialize weights with zeros\n",
    "- loop through epochs\n",
    "    - loop through instances\n",
    "        - compute output($\\hat{y}$) as $Heaviside(z)$, where $z = x^T w$\\\n",
    "        NOTE: rows of X contain transposed data so use np.dot(x[i], w)\n",
    "        - calculate new weights $w_{i,j}^{(next\\,step)} = w_{i,j}+\\eta(y_j-\\hat y_j)x_i$\n",
    "- return trained weights\n",
    "- draw decision boundary\n",
    "        \n",
    "\n"
   ]
  },
  {
   "cell_type": "markdown",
   "metadata": {},
   "source": [
    "##  generate a simple dataset and provide visualization help"
   ]
  },
  {
   "cell_type": "code",
   "execution_count": 1,
   "metadata": {},
   "outputs": [
    {
     "data": {
      "image/png": "[encoded data removed]",
      "text/plain": [
       "<Figure size 640x480 with 1 Axes>"
      ]
     },
     "metadata": {},
     "output_type": "display_data"
    }
   ],
   "source": [
    "import numpy as np\n",
    "import matplotlib.pyplot as plt\n",
    "\n",
    "# Set seed for reproducibility\n",
    "np.random.seed(42)\n",
    "\n",
    "# Generate data points\n",
    "class_size = 50\n",
    "X1 = np.round(np.random.normal(0, 1, (class_size, 2)), 1)\n",
    "X2 = np.round(\n",
    "    np.random.normal(0, 1, (class_size, 2)) + np.random.randint(-5, 5, (1, 2)), 1\n",
    ")\n",
    "X_train = np.vstack((X1, X2))\n",
    "\n",
    "y_train = np.hstack((np.zeros(class_size), np.ones(class_size)))\n",
    "\n",
    "# Shuffle data\n",
    "perm = np.random.permutation(len(X_train))\n",
    "X_train, y_train = X_train[perm], y_train[perm]\n",
    "\n",
    "\n",
    "def plot_data(X, y):\n",
    "    \"\"\"Plots data points with different colors for each class.\"\"\"\n",
    "    plt.scatter(*X[y == 0].T, color=\"r\", alpha=0.5, label=\"Class 0\")\n",
    "    plt.scatter(*X[y == 1].T, color=\"b\", alpha=0.5, label=\"Class 1\")\n",
    "    plt.legend()\n",
    "\n",
    "\n",
    "def plot_decision_boundary(X, w, alpha=1):\n",
    "    \"\"\"Plots a decision boundary given the weight vector.\"\"\"\n",
    "    x1_vals = np.linspace(X[:, 0].min(), X[:, 0].max(), 100)\n",
    "    m, c = -w[1] / w[2], -w[0] / w[2]\n",
    "    x2_vals = m * x1_vals + c\n",
    "    plt.plot(x1_vals, x2_vals, \"k-\", alpha=alpha)\n",
    "    plt.ylim(X[:, 1].min(), X[:, 1].max())\n",
    "\n",
    "\n",
    "# Dummy weights\n",
    "w_dummy = np.array([1, 2, 3])\n",
    "\n",
    "# Plot the data and decision boundary\n",
    "plot_data(X_train, y_train)\n",
    "plot_decision_boundary(X_train, w_dummy)\n",
    "plt.show()"
   ]
  },
  {
   "cell_type": "markdown",
   "metadata": {},
   "source": [
    "## put your code below by replacing ```pass``` command."
   ]
  },
  {
   "cell_type": "code",
   "execution_count": null,
   "metadata": {},
   "outputs": [],
   "source": [
    "def step_function(z):\n",
    "    pass\n",
    "    # your code here\n",
    "\n",
    "\n",
    "def perceptron(data, labels, lr, e):\n",
    "    \"\"\"\n",
    "    data: numpy array of shape (m,n)\n",
    "    labels: numpy array of shape (m,1)\n",
    "    lr: learning rate\n",
    "    e: number of epochs\n",
    "    \"\"\"\n",
    "    pass\n",
    "    # your code here"
   ]
  },
  {
   "cell_type": "markdown",
   "metadata": {},
   "source": [
    "## test your solution"
   ]
  },
  {
   "cell_type": "code",
   "execution_count": null,
   "metadata": {},
   "outputs": [],
   "source": [
    "w = perceptron(X_train, y_train, 0.1, 10)\n",
    "plot_data(X_train, y_train)\n",
    "plot_decision_boundary(X_train, w)"
   ]
  },
  {
   "cell_type": "markdown",
   "metadata": {},
   "source": [
    "# Excercise 2: Multilayer Perceptron (MLP)"
   ]
  },
  {
   "cell_type": "markdown",
   "metadata": {},
   "source": [
    "1. Implement the sigmoid function and derivative. \n",
    "\n",
    " - The sigmoid function is defined as:\n",
    "$\n",
    "\\sigma(x) = \\frac{1}{1 + e^{-x}}\n",
    "$\n",
    "\n",
    " - Its derivative is given by:\n",
    "$\n",
    "\\sigma'(x) = \\sigma(x) (1 - \\sigma(x))\n",
    "$\n",
    "2. Implement MLP class with 3 methods __init__, fit, predict\n",
    "\n",
    "3. __init__ should save input_size, hidden_size, output_size, learning_rate as attributes as well as create wights and biases of each layer.\n",
    "- initialize weights as random numbers\n",
    "- initialize biases with zeros\n",
    "\n",
    "4. fit should inlucde:\n",
    "- feedforward activation ((X times weights) + bias )\n",
    "- backpropagation calculate error\n",
    "- update weights and biases using learning rate\n",
    "\n",
    "5. predict should have feedforward pass only and return 1 when final activation is greater then or equal 0.5 or 0 otherwise\n"
   ]
  },
  {
   "cell_type": "code",
   "execution_count": null,
   "metadata": {},
   "outputs": [],
   "source": [
    "def sigmoid(z):\n",
    "    pass\n",
    "\n",
    "\n",
    "def sigmoid_derivative(z):\n",
    "    pass\n",
    "\n",
    "\n",
    "class MLP:\n",
    "    def __init__(self, input_size, hidden_size, output_size, learning_rate):\n",
    "        pass\n",
    "\n",
    "    def fit(self, X, y, epochs):\n",
    "        pass\n",
    "\n",
    "    def predict(self, X):\n",
    "        pass"
   ]
  },
  {
   "cell_type": "code",
   "execution_count": null,
   "metadata": {},
   "outputs": [],
   "source": [
    "mlp = MLP()\n",
    "mlp.train()"
   ]
  }
 ],
 "metadata": {
  "kernelspec": {
   "display_name": "d2l",
   "language": "python",
   "name": "python3"
  },
  "language_info": {
   "codemirror_mode": {
    "name": "ipython",
    "version": 3
   },
   "file_extension": ".py",
   "mimetype": "text/x-python",
   "name": "python",
   "nbconvert_exporter": "python",
   "pygments_lexer": "ipython3",
   "version": "3.9.21"
  },
  "orig_nbformat": 4
 },
 "nbformat": 4,
 "nbformat_minor": 2
}
